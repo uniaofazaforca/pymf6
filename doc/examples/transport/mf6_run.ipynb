{
 "cells": [
  {
   "cell_type": "code",
   "execution_count": 110,
   "id": "03dfc3da-eb65-4a0e-a551-33f88cc2d362",
   "metadata": {
    "tags": []
   },
   "outputs": [],
   "source": [
    "%reload_ext autoreload"
   ]
  },
  {
   "cell_type": "code",
   "execution_count": 119,
   "id": "96bfad4b-8b00-487a-b4ce-2d8909b2c8e0",
   "metadata": {
    "tags": []
   },
   "outputs": [],
   "source": [
    "%autoreload 2"
   ]
  },
  {
   "cell_type": "code",
   "execution_count": 130,
   "id": "323aef33-89bb-47a8-9757-fe73f8bef636",
   "metadata": {
    "tags": []
   },
   "outputs": [],
   "source": [
    "model_path=r'models\\mf6'\n",
    "name='transport'\n",
    "wel_coords=(0, 15, 15)\n",
    "wel_q = -0.5\n",
    "wel_c = 100 \n",
    "mixelm = -1"
   ]
  },
  {
   "cell_type": "code",
   "execution_count": 131,
   "id": "bb99a27d-8e56-422d-be6e-3de23502ceb1",
   "metadata": {
    "tags": []
   },
   "outputs": [],
   "source": [
    "from make_model import make_input\n",
    "from make_model import run_simulation\n",
    "from make_model import show_heads\n",
    "from make_model import show_well_head\n",
    "from make_model import show_concentration"
   ]
  },
  {
   "cell_type": "code",
   "execution_count": 132,
   "id": "1b4719d4-a7b6-42fb-9ac7-1b210574ae25",
   "metadata": {
    "tags": []
   },
   "outputs": [
    {
     "name": "stdout",
     "output_type": "stream",
     "text": [
      "writing simulation...\n",
      "  writing simulation name file...\n",
      "  writing simulation tdis package...\n",
      "  writing ims package ims_-1...\n",
      "  writing ims package ims_0...\n",
      "  writing package transport.gwfgwt...\n",
      "  writing model gwf_transport...\n",
      "    writing model name file...\n",
      "    writing package dis...\n",
      "    writing package npf...\n",
      "    writing package sto...\n",
      "    writing package ic...\n",
      "    writing package chd_0...\n",
      "INFORMATION: maxbound in ('gwf6', 'chd', 'dimensions') changed to 2 based on size of stress_period_data\n",
      "    writing package wel-1...\n",
      "INFORMATION: maxbound in ('gwf6', 'wel', 'dimensions') changed to 1 based on size of stress_period_data\n",
      "    writing package oc...\n",
      "  writing model gwt_transport...\n",
      "    writing model name file...\n",
      "    writing package dis...\n",
      "    writing package ic...\n",
      "    writing package adv...\n",
      "    writing package dsp...\n",
      "    writing package mst...\n",
      "    writing package ssm...\n",
      "    writing package oc...\n",
      "    writing package obs_0...\n"
     ]
    },
    {
     "data": {
      "text/plain": [
       "('gwf_transport', 'gwt_transport')"
      ]
     },
     "execution_count": 132,
     "metadata": {},
     "output_type": "execute_result"
    }
   ],
   "source": [
    "make_input(\n",
    "    wel_q=wel_q,\n",
    "    wel_coords=wel_coords,\n",
    "    wel_c=wel_c,\n",
    "    model_path=model_path,\n",
    "    name=name, \n",
    "    mixelm=mixelm)"
   ]
  },
  {
   "cell_type": "code",
   "execution_count": 135,
   "id": "a25f23b0-13d3-4c0f-85af-4e0a757ead02",
   "metadata": {
    "tags": []
   },
   "outputs": [],
   "source": [
    "run_simulation(model_path=model_path)"
   ]
  },
  {
   "cell_type": "code",
   "execution_count": 136,
   "id": "fe8c4f3a-3f2e-4f78-bcb0-e806f19cdfaa",
   "metadata": {
    "tags": []
   },
   "outputs": [
    {
     "ename": "ValueError",
     "evalue": "datafile error: file is empty: C:\\TUBAF\\MODSIMPLE2\\pymf6\\doc\\examples\\transport\\models\\mf6\\gwf_transport.hds",
     "output_type": "error",
     "traceback": [
      "\u001b[1;31m---------------------------------------------------------------------------\u001b[0m",
      "\u001b[1;31mValueError\u001b[0m                                Traceback (most recent call last)",
      "Cell \u001b[1;32mIn[136], line 1\u001b[0m\n\u001b[1;32m----> 1\u001b[0m \u001b[43mshow_heads\u001b[49m\u001b[43m(\u001b[49m\u001b[43mmodel_path\u001b[49m\u001b[38;5;241;43m=\u001b[39;49m\u001b[43mmodel_path\u001b[49m\u001b[43m,\u001b[49m\u001b[43m \u001b[49m\u001b[43mname\u001b[49m\u001b[38;5;241;43m=\u001b[39;49m\u001b[43mname\u001b[49m\u001b[43m)\u001b[49m\n",
      "File \u001b[1;32mC:\\TUBAF\\MODSIMPLE2\\pymf6\\doc\\examples\\transport\\make_model.py:384\u001b[0m, in \u001b[0;36mshow_heads\u001b[1;34m(model_path, name)\u001b[0m\n\u001b[0;32m    381\u001b[0m sim \u001b[38;5;241m=\u001b[39m get_simulation(model_path, gwfname)\n\u001b[0;32m    382\u001b[0m gwf \u001b[38;5;241m=\u001b[39m sim\u001b[38;5;241m.\u001b[39mget_model(gwfname)\n\u001b[1;32m--> 384\u001b[0m head \u001b[38;5;241m=\u001b[39m \u001b[43mgwf\u001b[49m\u001b[38;5;241;43m.\u001b[39;49m\u001b[43moutput\u001b[49m\u001b[38;5;241;43m.\u001b[39;49m\u001b[43mhead\u001b[49m\u001b[43m(\u001b[49m\u001b[43m)\u001b[49m\u001b[38;5;241m.\u001b[39mget_data()\n\u001b[0;32m    385\u001b[0m bud \u001b[38;5;241m=\u001b[39m gwf\u001b[38;5;241m.\u001b[39moutput\u001b[38;5;241m.\u001b[39mbudget()\n\u001b[0;32m    387\u001b[0m spdis \u001b[38;5;241m=\u001b[39m bud\u001b[38;5;241m.\u001b[39mget_data(text\u001b[38;5;241m=\u001b[39m\u001b[38;5;124m'\u001b[39m\u001b[38;5;124mDATA-SPDIS\u001b[39m\u001b[38;5;124m'\u001b[39m)[\u001b[38;5;241m-\u001b[39m\u001b[38;5;241m1\u001b[39m]\n",
      "File \u001b[1;32mC:\\TUBAF\\mambaforge\\envs\\pymf6\\lib\\site-packages\\flopy\\mf6\\utils\\output_util.py:198\u001b[0m, in \u001b[0;36mMF6Output.__init__.<locals>.get_layerfile_data\u001b[1;34m(self, f, text)\u001b[0m\n\u001b[0;32m    196\u001b[0m \u001b[38;5;28;01mtry\u001b[39;00m:\n\u001b[0;32m    197\u001b[0m     f \u001b[38;5;241m=\u001b[39m os\u001b[38;5;241m.\u001b[39mpath\u001b[38;5;241m.\u001b[39mjoin(\u001b[38;5;28mself\u001b[39m\u001b[38;5;241m.\u001b[39m_sim_ws, f)\n\u001b[1;32m--> 198\u001b[0m     \u001b[38;5;28;01mreturn\u001b[39;00m \u001b[43mHeadFile\u001b[49m\u001b[43m(\u001b[49m\u001b[43mf\u001b[49m\u001b[43m,\u001b[49m\u001b[43m \u001b[49m\u001b[43mtext\u001b[49m\u001b[38;5;241;43m=\u001b[39;49m\u001b[43mtext\u001b[49m\u001b[43m)\u001b[49m\n\u001b[0;32m    199\u001b[0m \u001b[38;5;28;01mexcept\u001b[39;00m \u001b[38;5;167;01mOSError\u001b[39;00m:\n\u001b[0;32m    200\u001b[0m     \u001b[38;5;28;01mreturn\u001b[39;00m\n",
      "File \u001b[1;32mC:\\TUBAF\\mambaforge\\envs\\pymf6\\lib\\site-packages\\flopy\\utils\\binaryfile.py:487\u001b[0m, in \u001b[0;36mHeadFile.__init__\u001b[1;34m(self, filename, text, precision, verbose, **kwargs)\u001b[0m\n\u001b[0;32m    485\u001b[0m \u001b[38;5;28mself\u001b[39m\u001b[38;5;241m.\u001b[39mtext \u001b[38;5;241m=\u001b[39m text\u001b[38;5;241m.\u001b[39mencode()\n\u001b[0;32m    486\u001b[0m \u001b[38;5;28;01mif\u001b[39;00m precision \u001b[38;5;241m==\u001b[39m \u001b[38;5;124m\"\u001b[39m\u001b[38;5;124mauto\u001b[39m\u001b[38;5;124m\"\u001b[39m:\n\u001b[1;32m--> 487\u001b[0m     precision \u001b[38;5;241m=\u001b[39m \u001b[43mget_headfile_precision\u001b[49m\u001b[43m(\u001b[49m\u001b[43mfilename\u001b[49m\u001b[43m)\u001b[49m\n\u001b[0;32m    488\u001b[0m     \u001b[38;5;28;01mif\u001b[39;00m precision \u001b[38;5;241m==\u001b[39m \u001b[38;5;124m\"\u001b[39m\u001b[38;5;124munknown\u001b[39m\u001b[38;5;124m\"\u001b[39m:\n\u001b[0;32m    489\u001b[0m         s \u001b[38;5;241m=\u001b[39m \u001b[38;5;124mf\u001b[39m\u001b[38;5;124m\"\u001b[39m\u001b[38;5;124mError. Precision could not be determined for \u001b[39m\u001b[38;5;132;01m{\u001b[39;00mfilename\u001b[38;5;132;01m}\u001b[39;00m\u001b[38;5;124m\"\u001b[39m\n",
      "File \u001b[1;32mC:\\TUBAF\\mambaforge\\envs\\pymf6\\lib\\site-packages\\flopy\\utils\\binaryfile.py:225\u001b[0m, in \u001b[0;36mget_headfile_precision\u001b[1;34m(filename)\u001b[0m\n\u001b[0;32m    223\u001b[0m \u001b[38;5;28;01massert\u001b[39;00m f\u001b[38;5;241m.\u001b[39mtell() \u001b[38;5;241m==\u001b[39m \u001b[38;5;241m0\u001b[39m\n\u001b[0;32m    224\u001b[0m \u001b[38;5;28;01mif\u001b[39;00m totalbytes \u001b[38;5;241m==\u001b[39m \u001b[38;5;241m0\u001b[39m:\n\u001b[1;32m--> 225\u001b[0m     \u001b[38;5;28;01mraise\u001b[39;00m \u001b[38;5;167;01mValueError\u001b[39;00m(\u001b[38;5;124mf\u001b[39m\u001b[38;5;124m\"\u001b[39m\u001b[38;5;124mdatafile error: file is empty: \u001b[39m\u001b[38;5;132;01m{\u001b[39;00mfilename\u001b[38;5;132;01m}\u001b[39;00m\u001b[38;5;124m\"\u001b[39m)\n\u001b[0;32m    227\u001b[0m \u001b[38;5;66;03m# first try single\u001b[39;00m\n\u001b[0;32m    228\u001b[0m vartype \u001b[38;5;241m=\u001b[39m [\n\u001b[0;32m    229\u001b[0m     (\u001b[38;5;124m\"\u001b[39m\u001b[38;5;124mkstp\u001b[39m\u001b[38;5;124m\"\u001b[39m, \u001b[38;5;124m\"\u001b[39m\u001b[38;5;124m<i4\u001b[39m\u001b[38;5;124m\"\u001b[39m),\n\u001b[0;32m    230\u001b[0m     (\u001b[38;5;124m\"\u001b[39m\u001b[38;5;124mkper\u001b[39m\u001b[38;5;124m\"\u001b[39m, \u001b[38;5;124m\"\u001b[39m\u001b[38;5;124m<i4\u001b[39m\u001b[38;5;124m\"\u001b[39m),\n\u001b[1;32m   (...)\u001b[0m\n\u001b[0;32m    233\u001b[0m     (\u001b[38;5;124m\"\u001b[39m\u001b[38;5;124mtext\u001b[39m\u001b[38;5;124m\"\u001b[39m, \u001b[38;5;124m\"\u001b[39m\u001b[38;5;124mS16\u001b[39m\u001b[38;5;124m\"\u001b[39m),\n\u001b[0;32m    234\u001b[0m ]\n",
      "\u001b[1;31mValueError\u001b[0m: datafile error: file is empty: C:\\TUBAF\\MODSIMPLE2\\pymf6\\doc\\examples\\transport\\models\\mf6\\gwf_transport.hds"
     ]
    }
   ],
   "source": [
    "show_heads(model_path=model_path, name=name)"
   ]
  },
  {
   "cell_type": "code",
   "execution_count": null,
   "id": "d54d7558-0728-4ecc-bdba-031b5552410c",
   "metadata": {
    "tags": []
   },
   "outputs": [],
   "source": [
    "show_well_head(model_path=model_path, name=name, wel_coords=wel_coords)"
   ]
  },
  {
   "cell_type": "code",
   "execution_count": null,
   "id": "6aeeb3f2-d2f6-4e1e-b549-23680a1f968c",
   "metadata": {
    "tags": []
   },
   "outputs": [],
   "source": [
    "show_concentration(model_path=model_path, name=name, wel_coords=wel_coords)"
   ]
  },
  {
   "cell_type": "code",
   "execution_count": null,
   "id": "bace44a6-9e37-4677-b899-fd9ae2e2f31a",
   "metadata": {},
   "outputs": [],
   "source": []
  }
 ],
 "metadata": {
  "kernelspec": {
   "display_name": "Python 3 (ipykernel)",
   "language": "python",
   "name": "python3"
  },
  "language_info": {
   "codemirror_mode": {
    "name": "ipython",
    "version": 3
   },
   "file_extension": ".py",
   "mimetype": "text/x-python",
   "name": "python",
   "nbconvert_exporter": "python",
   "pygments_lexer": "ipython3",
   "version": "3.10.9"
  }
 },
 "nbformat": 4,
 "nbformat_minor": 5
}
